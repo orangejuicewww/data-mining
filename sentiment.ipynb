{
 "cells": [
  {
   "cell_type": "code",
   "execution_count": null,
   "metadata": {},
   "outputs": [],
   "source": [
    "import pandas as pd\n",
    "import os\n",
    "data_dir = \"./data\"\n",
    "data_path = os.path.join(data_dir,\"poems.csv\")\n",
    "data_df = pd.read_csv(data_path)"
   ]
  },
  {
   "cell_type": "code",
   "execution_count": null,
   "metadata": {},
   "outputs": [],
   "source": [
    "{\"悲\":[\"愁\",\"恸\",\"痛\",\"寡\",\"哀\",\"伤\"、\"嗟\"]\n",
    "\"惧\":[\"谗\",\"谤\",\"患\",\"罪\",\"诈\",\"惧\",\"诬\"]\n",
    "\"乐\":[\"悦\",\"欣\",\"乐\",\"怡\",\"洽\",\"畅\",\"愉\"]\n",
    "\"怒\":\"怒\",\"雷\",\"吼\",\"霆\",\"霹\",\"猛\",\"轰\"]\n",
    "\"思\":[\"思\",\"忆\",\"怀\",\"恨\",\"吟\",\"逢\",\"期\"]\n",
    "\"喜\"：[\"喜\",\"健\",\"倩\",\"贺\",\"好\",\"良\",\"善\"]\n",
    "\"忧\"：[\"恤\",\"忧\",\"痾\",\"虑\",\"艰\",\"遑\",\"厄\"]}"
   ]
  },
  {
   "cell_type": "code",
   "execution_count": null,
   "metadata": {},
   "outputs": [],
   "source": [
    "from keras.preprocessing.sequence import pad_sequences\n",
    "from keras.preprocessing.text import Tokenizer\n",
    "\n",
    "tokenizer = Tokenizer()  # filters = ''\n",
    "# tokenizer = text.Tokenizer(num_words=max_features)\n",
    "print('fitting tokenizer')\n",
    "tokenizer.fit_on_texts(list(train_df[\"内容\"]))\n",
    "\n",
    "X_train = tokenizer.texts_to_sequences(list(train_df[\"内容\"]))\n",
    "X_train = pad_sequences(X_train, maxlen=500)\n",
    "\n",
    "Y_train = train_df['target'].values\n",
    "\n",
    "\n"
   ]
  }
 ],
 "metadata": {
  "kernelspec": {
   "display_name": "Python 3",
   "language": "python",
   "name": "python3"
  },
  "language_info": {
   "codemirror_mode": {
    "name": "ipython",
    "version": 3
   },
   "file_extension": ".py",
   "mimetype": "text/x-python",
   "name": "python",
   "nbconvert_exporter": "python",
   "pygments_lexer": "ipython3",
   "version": "3.7.1"
  }
 },
 "nbformat": 4,
 "nbformat_minor": 2
}
