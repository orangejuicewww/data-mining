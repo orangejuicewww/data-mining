{
 "cells": [
  {
   "cell_type": "code",
   "execution_count": 1,
   "metadata": {},
   "outputs": [
    {
     "name": "stderr",
     "output_type": "stream",
     "text": [
      "D:\\Anaconda3\\lib\\site-packages\\numpy\\core\\__init__.py:29: UserWarning: loaded more than 1 DLL from .libs:\n",
      "D:\\Anaconda3\\lib\\site-packages\\numpy\\.libs\\libopenblas.CSRRD7HKRKC3T3YXA7VY7TAZGLSWDKW6.gfortran-win_amd64.dll\n",
      "D:\\Anaconda3\\lib\\site-packages\\numpy\\.libs\\libopenblas.IPBC74C7KURV7CB2PKT5Z5FNR3SIBV4J.gfortran-win_amd64.dll\n",
      "  stacklevel=1)\n"
     ]
    }
   ],
   "source": [
    "import pandas as pd\n",
    "import os\n",
    "data_dir = \"./data\"\n",
    "data_path = os.path.join(data_dir,\"poems.csv\")\n",
    "data_df = pd.read_csv(data_path)"
   ]
  },
  {
   "cell_type": "code",
   "execution_count": 2,
   "metadata": {},
   "outputs": [
    {
     "data": {
      "text/html": [
       "<div>\n",
       "<style scoped>\n",
       "    .dataframe tbody tr th:only-of-type {\n",
       "        vertical-align: middle;\n",
       "    }\n",
       "\n",
       "    .dataframe tbody tr th {\n",
       "        vertical-align: top;\n",
       "    }\n",
       "\n",
       "    .dataframe thead th {\n",
       "        text-align: right;\n",
       "    }\n",
       "</style>\n",
       "<table border=\"1\" class=\"dataframe\">\n",
       "  <thead>\n",
       "    <tr style=\"text-align: right;\">\n",
       "      <th></th>\n",
       "      <th>题目</th>\n",
       "      <th>朝代</th>\n",
       "      <th>作者</th>\n",
       "      <th>内容</th>\n",
       "    </tr>\n",
       "  </thead>\n",
       "  <tbody>\n",
       "    <tr>\n",
       "      <th>count</th>\n",
       "      <td>1236863</td>\n",
       "      <td>1219637</td>\n",
       "      <td>1236876</td>\n",
       "      <td>1236875</td>\n",
       "    </tr>\n",
       "    <tr>\n",
       "      <th>unique</th>\n",
       "      <td>966952</td>\n",
       "      <td>15</td>\n",
       "      <td>37566</td>\n",
       "      <td>1236874</td>\n",
       "    </tr>\n",
       "    <tr>\n",
       "      <th>top</th>\n",
       "      <td>句</td>\n",
       "      <td>宋</td>\n",
       "      <td>陆游</td>\n",
       "      <td>霁烟消处寒犹嫩。乍门巷、愔愔昼永。池塘芳草魂初醒。秀句吟春未稳。仙源阻、春风瘦损。又燕子、来...</td>\n",
       "    </tr>\n",
       "    <tr>\n",
       "      <th>freq</th>\n",
       "      <td>4968</td>\n",
       "      <td>585160</td>\n",
       "      <td>20087</td>\n",
       "      <td>2</td>\n",
       "    </tr>\n",
       "  </tbody>\n",
       "</table>\n",
       "</div>"
      ],
      "text/plain": [
       "             题目       朝代       作者  \\\n",
       "count   1236863  1219637  1236876   \n",
       "unique   966952       15    37566   \n",
       "top           句        宋       陆游   \n",
       "freq       4968   585160    20087   \n",
       "\n",
       "                                                       内容  \n",
       "count                                             1236875  \n",
       "unique                                            1236874  \n",
       "top     霁烟消处寒犹嫩。乍门巷、愔愔昼永。池塘芳草魂初醒。秀句吟春未稳。仙源阻、春风瘦损。又燕子、来...  \n",
       "freq                                                    2  "
      ]
     },
     "execution_count": 2,
     "metadata": {},
     "output_type": "execute_result"
    }
   ],
   "source": [
    "data_df.describe()"
   ]
  },
  {
   "cell_type": "code",
   "execution_count": 3,
   "metadata": {},
   "outputs": [
    {
     "data": {
      "text/html": [
       "<div>\n",
       "<style scoped>\n",
       "    .dataframe tbody tr th:only-of-type {\n",
       "        vertical-align: middle;\n",
       "    }\n",
       "\n",
       "    .dataframe tbody tr th {\n",
       "        vertical-align: top;\n",
       "    }\n",
       "\n",
       "    .dataframe thead th {\n",
       "        text-align: right;\n",
       "    }\n",
       "</style>\n",
       "<table border=\"1\" class=\"dataframe\">\n",
       "  <thead>\n",
       "    <tr style=\"text-align: right;\">\n",
       "      <th></th>\n",
       "      <th>题目</th>\n",
       "      <th>朝代</th>\n",
       "      <th>作者</th>\n",
       "      <th>内容</th>\n",
       "    </tr>\n",
       "  </thead>\n",
       "  <tbody>\n",
       "    <tr>\n",
       "      <th>0</th>\n",
       "      <td>赠歌者杜氏入道三首 其三</td>\n",
       "      <td>元</td>\n",
       "      <td>潘纯</td>\n",
       "      <td>云髻高梳鬓不分，扫除虚室事元君。新糊白纸屏风上，尽画蓬莱五色云。</td>\n",
       "    </tr>\n",
       "    <tr>\n",
       "      <th>1</th>\n",
       "      <td>七岁游法兴寺</td>\n",
       "      <td>元</td>\n",
       "      <td>胡天游</td>\n",
       "      <td>山色摇光入袖凉，松阴十丈印回廊。老僧读罢楞严咒，一殿神风柏子香。</td>\n",
       "    </tr>\n",
       "    <tr>\n",
       "      <th>2</th>\n",
       "      <td>新岁忆曾子白</td>\n",
       "      <td>元</td>\n",
       "      <td>陈高</td>\n",
       "      <td>经月愁闻雨，新年苦忆君。青华为客久，白发著书勤。酒共邻僧饮，蔬从野老分。何时共登眺，整屐待晴云。</td>\n",
       "    </tr>\n",
       "    <tr>\n",
       "      <th>3</th>\n",
       "      <td>城西虎跑寺</td>\n",
       "      <td>元</td>\n",
       "      <td>陈高</td>\n",
       "      <td>石势虎蹲伏，山形龙屈盘。寺开唐殿阁，坟掩宋衣冠。幽涧泉声细，斜阳塔影寒。近城多战鼓，栖息此中安。</td>\n",
       "    </tr>\n",
       "    <tr>\n",
       "      <th>4</th>\n",
       "      <td>赠章以元昆仲</td>\n",
       "      <td>元</td>\n",
       "      <td>陈高</td>\n",
       "      <td>相见谈经史，江楼坐夜阑。风声吹屋响，灯影照人寒。俗薄交游尽，时危出处难。衰年逢二妙，亦得闷怀宽。</td>\n",
       "    </tr>\n",
       "  </tbody>\n",
       "</table>\n",
       "</div>"
      ],
      "text/plain": [
       "             题目 朝代   作者                                                内容\n",
       "0  赠歌者杜氏入道三首 其三  元   潘纯                  云髻高梳鬓不分，扫除虚室事元君。新糊白纸屏风上，尽画蓬莱五色云。\n",
       "1        七岁游法兴寺  元  胡天游                  山色摇光入袖凉，松阴十丈印回廊。老僧读罢楞严咒，一殿神风柏子香。\n",
       "2        新岁忆曾子白  元   陈高  经月愁闻雨，新年苦忆君。青华为客久，白发著书勤。酒共邻僧饮，蔬从野老分。何时共登眺，整屐待晴云。\n",
       "3         城西虎跑寺  元   陈高  石势虎蹲伏，山形龙屈盘。寺开唐殿阁，坟掩宋衣冠。幽涧泉声细，斜阳塔影寒。近城多战鼓，栖息此中安。\n",
       "4        赠章以元昆仲  元   陈高  相见谈经史，江楼坐夜阑。风声吹屋响，灯影照人寒。俗薄交游尽，时危出处难。衰年逢二妙，亦得闷怀宽。"
      ]
     },
     "execution_count": 3,
     "metadata": {},
     "output_type": "execute_result"
    }
   ],
   "source": [
    "data_df.head()"
   ]
  },
  {
   "cell_type": "code",
   "execution_count": 4,
   "metadata": {},
   "outputs": [
    {
     "data": {
      "text/plain": [
       "题目    4968\n",
       "朝代    4967\n",
       "作者    4968\n",
       "内容    4968\n",
       "dtype: int64"
      ]
     },
     "execution_count": 4,
     "metadata": {},
     "output_type": "execute_result"
    }
   ],
   "source": [
    "data_df[data_df[\"题目\"]==\"句\"].count()"
   ]
  },
  {
   "cell_type": "markdown",
   "metadata": {},
   "source": [
    " - [Word cloud from a Pandas data frame](https://www.mikulskibartosz.name/word-cloud-from-a-pandas-data-frame/) \n",
    " - [解决Python词云库wordcloud不显示中文的问题](https://blog.csdn.net/xiemanR/article/details/72796739)"
   ]
  },
  {
   "cell_type": "code",
   "execution_count": 5,
   "metadata": {},
   "outputs": [],
   "source": [
    "    sorter = [\"先秦\", \"汉\", \"魏晋\", \"隋\", \"唐\", \"五代\", \"宋\", \"辽\", \"金\", \"元\", \"明\", \"清\", \"民国\", \"近代\", \"当代\",\"未知\"]\n",
    "    data_df[\"朝代\"] = data_df[\"朝代\"].astype(\"category\")\n",
    "    data_df[\"朝代\"].cat.set_categories(sorter, inplace=True)"
   ]
  },
  {
   "cell_type": "code",
   "execution_count": 6,
   "metadata": {},
   "outputs": [
    {
     "data": {
      "text/html": [
       "<div>\n",
       "<style scoped>\n",
       "    .dataframe tbody tr th:only-of-type {\n",
       "        vertical-align: middle;\n",
       "    }\n",
       "\n",
       "    .dataframe tbody tr th {\n",
       "        vertical-align: top;\n",
       "    }\n",
       "\n",
       "    .dataframe thead th {\n",
       "        text-align: right;\n",
       "    }\n",
       "</style>\n",
       "<table border=\"1\" class=\"dataframe\">\n",
       "  <thead>\n",
       "    <tr style=\"text-align: right;\">\n",
       "      <th></th>\n",
       "      <th>朝代</th>\n",
       "      <th>count</th>\n",
       "    </tr>\n",
       "  </thead>\n",
       "  <tbody>\n",
       "    <tr>\n",
       "      <th>0</th>\n",
       "      <td>先秦</td>\n",
       "      <td>1129</td>\n",
       "    </tr>\n",
       "    <tr>\n",
       "      <th>1</th>\n",
       "      <td>汉</td>\n",
       "      <td>557</td>\n",
       "    </tr>\n",
       "    <tr>\n",
       "      <th>2</th>\n",
       "      <td>魏晋</td>\n",
       "      <td>3133</td>\n",
       "    </tr>\n",
       "    <tr>\n",
       "      <th>3</th>\n",
       "      <td>隋</td>\n",
       "      <td>1652</td>\n",
       "    </tr>\n",
       "    <tr>\n",
       "      <th>4</th>\n",
       "      <td>唐</td>\n",
       "      <td>144763</td>\n",
       "    </tr>\n",
       "    <tr>\n",
       "      <th>5</th>\n",
       "      <td>五代</td>\n",
       "      <td>120</td>\n",
       "    </tr>\n",
       "    <tr>\n",
       "      <th>6</th>\n",
       "      <td>宋</td>\n",
       "      <td>585160</td>\n",
       "    </tr>\n",
       "    <tr>\n",
       "      <th>7</th>\n",
       "      <td>辽</td>\n",
       "      <td>22</td>\n",
       "    </tr>\n",
       "    <tr>\n",
       "      <th>8</th>\n",
       "      <td>金</td>\n",
       "      <td>5815</td>\n",
       "    </tr>\n",
       "    <tr>\n",
       "      <th>9</th>\n",
       "      <td>元</td>\n",
       "      <td>54461</td>\n",
       "    </tr>\n",
       "    <tr>\n",
       "      <th>10</th>\n",
       "      <td>明</td>\n",
       "      <td>254867</td>\n",
       "    </tr>\n",
       "    <tr>\n",
       "      <th>11</th>\n",
       "      <td>清</td>\n",
       "      <td>90587</td>\n",
       "    </tr>\n",
       "    <tr>\n",
       "      <th>12</th>\n",
       "      <td>民国</td>\n",
       "      <td>17313</td>\n",
       "    </tr>\n",
       "    <tr>\n",
       "      <th>13</th>\n",
       "      <td>近代</td>\n",
       "      <td>31850</td>\n",
       "    </tr>\n",
       "    <tr>\n",
       "      <th>14</th>\n",
       "      <td>当代</td>\n",
       "      <td>28208</td>\n",
       "    </tr>\n",
       "    <tr>\n",
       "      <th>15</th>\n",
       "      <td>未知</td>\n",
       "      <td>0</td>\n",
       "    </tr>\n",
       "  </tbody>\n",
       "</table>\n",
       "</div>"
      ],
      "text/plain": [
       "    朝代   count\n",
       "0   先秦    1129\n",
       "1    汉     557\n",
       "2   魏晋    3133\n",
       "3    隋    1652\n",
       "4    唐  144763\n",
       "5   五代     120\n",
       "6    宋  585160\n",
       "7    辽      22\n",
       "8    金    5815\n",
       "9    元   54461\n",
       "10   明  254867\n",
       "11   清   90587\n",
       "12  民国   17313\n",
       "13  近代   31850\n",
       "14  当代   28208\n",
       "15  未知       0"
      ]
     },
     "execution_count": 6,
     "metadata": {},
     "output_type": "execute_result"
    }
   ],
   "source": [
    "data_df.groupby([\"朝代\"]).size().reset_index(name='count')"
   ]
  },
  {
   "cell_type": "code",
   "execution_count": 7,
   "metadata": {},
   "outputs": [
    {
     "data": {
      "text/html": [
       "<div>\n",
       "<style scoped>\n",
       "    .dataframe tbody tr th:only-of-type {\n",
       "        vertical-align: middle;\n",
       "    }\n",
       "\n",
       "    .dataframe tbody tr th {\n",
       "        vertical-align: top;\n",
       "    }\n",
       "\n",
       "    .dataframe thead th {\n",
       "        text-align: right;\n",
       "    }\n",
       "</style>\n",
       "<table border=\"1\" class=\"dataframe\">\n",
       "  <thead>\n",
       "    <tr style=\"text-align: right;\">\n",
       "      <th></th>\n",
       "      <th>题目</th>\n",
       "      <th>朝代</th>\n",
       "      <th>作者</th>\n",
       "      <th>内容</th>\n",
       "    </tr>\n",
       "  </thead>\n",
       "  <tbody>\n",
       "    <tr>\n",
       "      <th>79644</th>\n",
       "      <td>九日龙山饮</td>\n",
       "      <td>唐</td>\n",
       "      <td>李白</td>\n",
       "      <td>九日龙山饮，黄花笑逐臣。醉看风落帽，舞爱月留人。</td>\n",
       "    </tr>\n",
       "    <tr>\n",
       "      <th>79645</th>\n",
       "      <td>九月十日即事</td>\n",
       "      <td>唐</td>\n",
       "      <td>李白</td>\n",
       "      <td>昨日登高罢，今朝更举觞。菊花何太苦，遭此两重阳。</td>\n",
       "    </tr>\n",
       "    <tr>\n",
       "      <th>79646</th>\n",
       "      <td>上皇西巡南京歌十首 其一</td>\n",
       "      <td>唐</td>\n",
       "      <td>李白</td>\n",
       "      <td>胡尘轻拂建章台，圣主西巡蜀道来。剑壁门高五千尺，石为楼阁九天开。</td>\n",
       "    </tr>\n",
       "    <tr>\n",
       "      <th>79647</th>\n",
       "      <td>上皇西巡南京歌十首 其二</td>\n",
       "      <td>唐</td>\n",
       "      <td>李白</td>\n",
       "      <td>九天开出一成都，万户千门入画图。草树云山如锦绣，秦川得及此间无。</td>\n",
       "    </tr>\n",
       "    <tr>\n",
       "      <th>79648</th>\n",
       "      <td>上皇西巡南京歌十首 其三</td>\n",
       "      <td>唐</td>\n",
       "      <td>李白</td>\n",
       "      <td>华阳春树号新丰，行入新都若旧宫。柳色未饶秦地绿，花光不减上阳红。</td>\n",
       "    </tr>\n",
       "    <tr>\n",
       "      <th>79649</th>\n",
       "      <td>上皇西巡南京歌十首 其四</td>\n",
       "      <td>唐</td>\n",
       "      <td>李白</td>\n",
       "      <td>谁道君王行路难，六龙西幸万人欢。地转锦江成渭水，天回玉垒作长安。</td>\n",
       "    </tr>\n",
       "    <tr>\n",
       "      <th>79650</th>\n",
       "      <td>上皇西巡南京歌十首 其五</td>\n",
       "      <td>唐</td>\n",
       "      <td>李白</td>\n",
       "      <td>万国同风共一时，锦江何谢曲江池。石镜更明天上月，后宫亲得照蛾眉。</td>\n",
       "    </tr>\n",
       "    <tr>\n",
       "      <th>79651</th>\n",
       "      <td>上皇西巡南京歌十首 其六</td>\n",
       "      <td>唐</td>\n",
       "      <td>李白</td>\n",
       "      <td>濯锦清江万里流，云帆龙舸下扬州。北地虽誇上林苑，南京还有散花楼。</td>\n",
       "    </tr>\n",
       "    <tr>\n",
       "      <th>79652</th>\n",
       "      <td>上皇西巡南京歌十首 其七</td>\n",
       "      <td>唐</td>\n",
       "      <td>李白</td>\n",
       "      <td>锦水东流绕锦城，星桥北挂象天星。四海此中朝圣主，峨眉山下列仙庭。</td>\n",
       "    </tr>\n",
       "    <tr>\n",
       "      <th>79653</th>\n",
       "      <td>上皇西巡南京歌十首 其八</td>\n",
       "      <td>唐</td>\n",
       "      <td>李白</td>\n",
       "      <td>秦开蜀道置金牛，汉水元通星汉流。天子一行遗圣迹，锦城长作帝王州。</td>\n",
       "    </tr>\n",
       "  </tbody>\n",
       "</table>\n",
       "</div>"
      ],
      "text/plain": [
       "                 题目 朝代  作者                                内容\n",
       "79644         九日龙山饮  唐  李白          九日龙山饮，黄花笑逐臣。醉看风落帽，舞爱月留人。\n",
       "79645        九月十日即事  唐  李白          昨日登高罢，今朝更举觞。菊花何太苦，遭此两重阳。\n",
       "79646  上皇西巡南京歌十首 其一  唐  李白  胡尘轻拂建章台，圣主西巡蜀道来。剑壁门高五千尺，石为楼阁九天开。\n",
       "79647  上皇西巡南京歌十首 其二  唐  李白  九天开出一成都，万户千门入画图。草树云山如锦绣，秦川得及此间无。\n",
       "79648  上皇西巡南京歌十首 其三  唐  李白  华阳春树号新丰，行入新都若旧宫。柳色未饶秦地绿，花光不减上阳红。\n",
       "79649  上皇西巡南京歌十首 其四  唐  李白  谁道君王行路难，六龙西幸万人欢。地转锦江成渭水，天回玉垒作长安。\n",
       "79650  上皇西巡南京歌十首 其五  唐  李白  万国同风共一时，锦江何谢曲江池。石镜更明天上月，后宫亲得照蛾眉。\n",
       "79651  上皇西巡南京歌十首 其六  唐  李白  濯锦清江万里流，云帆龙舸下扬州。北地虽誇上林苑，南京还有散花楼。\n",
       "79652  上皇西巡南京歌十首 其七  唐  李白  锦水东流绕锦城，星桥北挂象天星。四海此中朝圣主，峨眉山下列仙庭。\n",
       "79653  上皇西巡南京歌十首 其八  唐  李白  秦开蜀道置金牛，汉水元通星汉流。天子一行遗圣迹，锦城长作帝王州。"
      ]
     },
     "execution_count": 7,
     "metadata": {},
     "output_type": "execute_result"
    }
   ],
   "source": [
    "data_df[data_df[\"作者\"]==\"李白\"][:10]#.count()"
   ]
  },
  {
   "cell_type": "code",
   "execution_count": 8,
   "metadata": {},
   "outputs": [
    {
     "data": {
      "text/html": [
       "<div>\n",
       "<style scoped>\n",
       "    .dataframe tbody tr th:only-of-type {\n",
       "        vertical-align: middle;\n",
       "    }\n",
       "\n",
       "    .dataframe tbody tr th {\n",
       "        vertical-align: top;\n",
       "    }\n",
       "\n",
       "    .dataframe thead th {\n",
       "        text-align: right;\n",
       "    }\n",
       "</style>\n",
       "<table border=\"1\" class=\"dataframe\">\n",
       "  <thead>\n",
       "    <tr style=\"text-align: right;\">\n",
       "      <th></th>\n",
       "      <th>朝代</th>\n",
       "      <th>作者</th>\n",
       "      <th>count</th>\n",
       "    </tr>\n",
       "  </thead>\n",
       "  <tbody>\n",
       "    <tr>\n",
       "      <th>1</th>\n",
       "      <td>先秦</td>\n",
       "      <td>佚名</td>\n",
       "      <td>457</td>\n",
       "    </tr>\n",
       "    <tr>\n",
       "      <th>32</th>\n",
       "      <td>汉</td>\n",
       "      <td>两汉乐府</td>\n",
       "      <td>106</td>\n",
       "    </tr>\n",
       "    <tr>\n",
       "      <th>233</th>\n",
       "      <td>魏晋</td>\n",
       "      <td>无名氏</td>\n",
       "      <td>1021</td>\n",
       "    </tr>\n",
       "    <tr>\n",
       "      <th>449</th>\n",
       "      <td>隋</td>\n",
       "      <td>无名氏</td>\n",
       "      <td>765</td>\n",
       "    </tr>\n",
       "    <tr>\n",
       "      <th>4122</th>\n",
       "      <td>唐</td>\n",
       "      <td>白居易</td>\n",
       "      <td>8582</td>\n",
       "    </tr>\n",
       "    <tr>\n",
       "      <th>6229</th>\n",
       "      <td>五代</td>\n",
       "      <td>李煜</td>\n",
       "      <td>22</td>\n",
       "    </tr>\n",
       "    <tr>\n",
       "      <th>19949</th>\n",
       "      <td>宋</td>\n",
       "      <td>陆游</td>\n",
       "      <td>20087</td>\n",
       "    </tr>\n",
       "    <tr>\n",
       "      <th>21997</th>\n",
       "      <td>辽</td>\n",
       "      <td>萧观音</td>\n",
       "      <td>12</td>\n",
       "    </tr>\n",
       "    <tr>\n",
       "      <th>22103</th>\n",
       "      <td>金</td>\n",
       "      <td>李俊民</td>\n",
       "      <td>964</td>\n",
       "    </tr>\n",
       "    <tr>\n",
       "      <th>22417</th>\n",
       "      <td>元</td>\n",
       "      <td>刘基</td>\n",
       "      <td>1731</td>\n",
       "    </tr>\n",
       "    <tr>\n",
       "      <th>26252</th>\n",
       "      <td>明</td>\n",
       "      <td>王世贞</td>\n",
       "      <td>8013</td>\n",
       "    </tr>\n",
       "    <tr>\n",
       "      <th>28462</th>\n",
       "      <td>清</td>\n",
       "      <td>丘逢甲</td>\n",
       "      <td>2147</td>\n",
       "    </tr>\n",
       "    <tr>\n",
       "      <th>37330</th>\n",
       "      <td>民国</td>\n",
       "      <td>曹家达</td>\n",
       "      <td>1874</td>\n",
       "    </tr>\n",
       "    <tr>\n",
       "      <th>38190</th>\n",
       "      <td>近代</td>\n",
       "      <td>黄浚</td>\n",
       "      <td>1277</td>\n",
       "    </tr>\n",
       "    <tr>\n",
       "      <th>38228</th>\n",
       "      <td>当代</td>\n",
       "      <td>卢青山</td>\n",
       "      <td>3133</td>\n",
       "    </tr>\n",
       "  </tbody>\n",
       "</table>\n",
       "</div>"
      ],
      "text/plain": [
       "       朝代    作者  count\n",
       "1      先秦    佚名    457\n",
       "32      汉  两汉乐府    106\n",
       "233    魏晋   无名氏   1021\n",
       "449     隋   无名氏    765\n",
       "4122    唐   白居易   8582\n",
       "6229   五代    李煜     22\n",
       "19949   宋    陆游  20087\n",
       "21997   辽   萧观音     12\n",
       "22103   金   李俊民    964\n",
       "22417   元    刘基   1731\n",
       "26252   明   王世贞   8013\n",
       "28462   清   丘逢甲   2147\n",
       "37330  民国   曹家达   1874\n",
       "38190  近代    黄浚   1277\n",
       "38228  当代   卢青山   3133"
      ]
     },
     "execution_count": 8,
     "metadata": {},
     "output_type": "execute_result"
    }
   ],
   "source": [
    "grouped=data_df.groupby([\"朝代\",\"作者\"]).size().reset_index(name='count')\n",
    "grouped.sort_values([\"朝代\",\"count\"],ascending=[True,False]).groupby(\"朝代\").head(1)"
   ]
  },
  {
   "cell_type": "code",
   "execution_count": 9,
   "metadata": {},
   "outputs": [
    {
     "data": {
      "text/html": [
       "<div>\n",
       "<style scoped>\n",
       "    .dataframe tbody tr th:only-of-type {\n",
       "        vertical-align: middle;\n",
       "    }\n",
       "\n",
       "    .dataframe tbody tr th {\n",
       "        vertical-align: top;\n",
       "    }\n",
       "\n",
       "    .dataframe thead th {\n",
       "        text-align: right;\n",
       "    }\n",
       "</style>\n",
       "<table border=\"1\" class=\"dataframe\">\n",
       "  <thead>\n",
       "    <tr style=\"text-align: right;\">\n",
       "      <th></th>\n",
       "      <th>朝代</th>\n",
       "      <th>count</th>\n",
       "    </tr>\n",
       "  </thead>\n",
       "  <tbody>\n",
       "    <tr>\n",
       "      <th>0</th>\n",
       "      <td>先秦</td>\n",
       "      <td>31</td>\n",
       "    </tr>\n",
       "    <tr>\n",
       "      <th>1</th>\n",
       "      <td>汉</td>\n",
       "      <td>111</td>\n",
       "    </tr>\n",
       "    <tr>\n",
       "      <th>2</th>\n",
       "      <td>魏晋</td>\n",
       "      <td>263</td>\n",
       "    </tr>\n",
       "    <tr>\n",
       "      <th>3</th>\n",
       "      <td>隋</td>\n",
       "      <td>126</td>\n",
       "    </tr>\n",
       "    <tr>\n",
       "      <th>4</th>\n",
       "      <td>唐</td>\n",
       "      <td>5689</td>\n",
       "    </tr>\n",
       "    <tr>\n",
       "      <th>5</th>\n",
       "      <td>五代</td>\n",
       "      <td>26</td>\n",
       "    </tr>\n",
       "    <tr>\n",
       "      <th>6</th>\n",
       "      <td>宋</td>\n",
       "      <td>15745</td>\n",
       "    </tr>\n",
       "    <tr>\n",
       "      <th>7</th>\n",
       "      <td>辽</td>\n",
       "      <td>7</td>\n",
       "    </tr>\n",
       "    <tr>\n",
       "      <th>8</th>\n",
       "      <td>金</td>\n",
       "      <td>269</td>\n",
       "    </tr>\n",
       "    <tr>\n",
       "      <th>9</th>\n",
       "      <td>元</td>\n",
       "      <td>1455</td>\n",
       "    </tr>\n",
       "    <tr>\n",
       "      <th>10</th>\n",
       "      <td>明</td>\n",
       "      <td>4648</td>\n",
       "    </tr>\n",
       "    <tr>\n",
       "      <th>11</th>\n",
       "      <td>清</td>\n",
       "      <td>8920</td>\n",
       "    </tr>\n",
       "    <tr>\n",
       "      <th>12</th>\n",
       "      <td>民国</td>\n",
       "      <td>108</td>\n",
       "    </tr>\n",
       "    <tr>\n",
       "      <th>13</th>\n",
       "      <td>近代</td>\n",
       "      <td>812</td>\n",
       "    </tr>\n",
       "    <tr>\n",
       "      <th>14</th>\n",
       "      <td>当代</td>\n",
       "      <td>177</td>\n",
       "    </tr>\n",
       "  </tbody>\n",
       "</table>\n",
       "</div>"
      ],
      "text/plain": [
       "    朝代  count\n",
       "0   先秦     31\n",
       "1    汉    111\n",
       "2   魏晋    263\n",
       "3    隋    126\n",
       "4    唐   5689\n",
       "5   五代     26\n",
       "6    宋  15745\n",
       "7    辽      7\n",
       "8    金    269\n",
       "9    元   1455\n",
       "10   明   4648\n",
       "11   清   8920\n",
       "12  民国    108\n",
       "13  近代    812\n",
       "14  当代    177"
      ]
     },
     "execution_count": 9,
     "metadata": {},
     "output_type": "execute_result"
    }
   ],
   "source": [
    "data_df.groupby([\"朝代\",\"作者\"]).agg([\"nunique\"]).groupby([\"朝代\"]).size().reset_index(name='count')"
   ]
  },
  {
   "cell_type": "code",
   "execution_count": 19,
   "metadata": {},
   "outputs": [
    {
     "name": "stdout",
     "output_type": "stream",
     "text": [
      "./data\\..\\fonts\\simsun.ttc\n"
     ]
    }
   ],
   "source": [
    "font_path=os.path.join(data_dir,\"..\",\"fonts\",'simsun.ttc')\n",
    "print(font_path)\n",
    "os.environ['FONT_PATH'] =font_path #linux\n",
    "# print(font_path)\n",
    "\n",
    "from wordcloud import WordCloud\n",
    "import matplotlib.pyplot as plt\n",
    "from collections import Counter\n",
    "\n",
    "stopwords = set([\"\",\"，\",\"。\",\" \",\"？\",\"“\",\"!\",\"\\u3000\",\"、\",\"”\",\"□\",\n",
    "                 \"：\",\"！\",\"；\",\n",
    "                '有','而', '何', '乎', '乃', '其', '且', '若', \n",
    "                 '所', '为', '焉', '以', '因', '于', '与', '也', \n",
    "                 '则', '者', '之', '不', '自', '得', '一', '来',\n",
    "                 '去', '无', '可', '是', '已', '此', '的', '上',\n",
    "                 '中', '兮', '三'])\n",
    "cloud = WordCloud(\n",
    "    # 设置字体，不指定就会出现乱码\n",
    "    font_path=font_path,\n",
    "    # font_path=path.join(d,'simsun.ttc'),\n",
    "    # 设置背景色\n",
    "    background_color='white',\n",
    "    # # 词云形状\n",
    "    # mask=color_mask,\n",
    "    # 允许最大词汇\n",
    "    max_words=200,\n",
    "    # 最大号字体\n",
    "#     max_font_size=40,\n",
    "    min_font_size=10,\n",
    "#     width = 6000,\n",
    "#     height = 4000,\n",
    "#     background_color = 'black',\n",
    ")\n",
    "\n",
    "\n",
    "def show_wordcloud(text):\n",
    "    \"\"\"以空格分隔的字符串\"\"\"\n",
    "    _word_counts = Counter(text.split(\" \"))\n",
    "    print(_word_counts.most_common()[:20])\n",
    "    word_counts={w:c for w,c in _word_counts.items() if w not in stopwords}\n",
    "    wCloud = cloud.generate_from_frequencies(word_counts)\n",
    "    wCloud.to_file('cloud.jpg')\n",
    "    plt.imshow(wCloud, interpolation='bilinear')\n",
    "    plt.axis('off')\n",
    "    plt.show()"
   ]
  },
  {
   "cell_type": "code",
   "execution_count": 20,
   "metadata": {},
   "outputs": [
    {
     "data": {
      "text/plain": [
       "2182"
      ]
     },
     "execution_count": 20,
     "metadata": {},
     "output_type": "execute_result"
    }
   ],
   "source": [
    "import gc\n",
    "gc.collect()"
   ]
  },
  {
   "cell_type": "code",
   "execution_count": 21,
   "metadata": {},
   "outputs": [],
   "source": [
    "data_df[\"内容\"]=data_df[\"内容\"].replace(\"[^\\u4E00-\\u9FFF]+$\",\"\",regex=True) #去除非中文字符\n",
    "data_df.dropna(subset=['内容'], inplace=True)\n",
    "# data_df[\"内容\"]=data_df[\"内容\"].replace(\"<.*>|—\",\"\",regex=True)"
   ]
  },
  {
   "cell_type": "code",
   "execution_count": 22,
   "metadata": {},
   "outputs": [
    {
     "data": {
      "text/plain": [
       "'城上风光莺语乱。城下烟波春拍岸。绿杨芳草几时休，泪眼愁肠先已断。 情怀渐变成衰晚。鸾鉴朱颜惊暗换。昔年多病厌芳尊，今日芳尊惟恐浅'"
      ]
     },
     "execution_count": 22,
     "metadata": {},
     "output_type": "execute_result"
    }
   ],
   "source": [
    "data_df[\"内容\"].values[853026]"
   ]
  },
  {
   "cell_type": "code",
   "execution_count": 24,
   "metadata": {},
   "outputs": [
    {
     "data": {
      "text/plain": [
       "[('', 106532),\n",
       " ('韩愈', 196),\n",
       " ('孟郊', 166),\n",
       " ('皎然', 88),\n",
       " ('白居易', 44),\n",
       " ('刘禹锡', 42),\n",
       " ('皮日休', 38),\n",
       " ('陆龟蒙', 35),\n",
       " ('潘述', 34),\n",
       " ('段成式', 34),\n",
       " ('汤衡', 26),\n",
       " ('李正封', 25),\n",
       " ('颜真卿', 22),\n",
       " ('崔子向', 22),\n",
       " ('张希复', 22),\n",
       " ('裴度', 19),\n",
       " ('王起', 19),\n",
       " ('郑符', 17),\n",
       " ('◎唱', 17),\n",
       " ('陆羽', 14)]"
      ]
     },
     "execution_count": 24,
     "metadata": {},
     "output_type": "execute_result"
    }
   ],
   "source": [
    "Counter(text.split(\" \")).most_common()[:20]"
   ]
  },
  {
   "cell_type": "code",
   "execution_count": 25,
   "metadata": {},
   "outputs": [
    {
     "data": {
      "text/plain": [
       "'◎寿崇节致语隆兴府  万年介寿，星辰拱文母之尊；四海蒙恩，雨露宠周臣之宴。颂声交作，协气横流。与天同心，为民立命。以圣子承承继继，九州番臣；奉太后怡怡愉愉，亿载永久。宝册加徽称于汉典，彩衣绚瑞色于舜庭。捧金炉香，胥庆寿崇之旦；□玉卮酒，永延长乐之春。躬禀聪明，性纯爱敬。晋福介王母，三千年之桃晕新红；华封祝圣人，八九叶之蓂开并绿。耳凤韶之雅奏，身鱼藻之深仁。臣等幸囿明时，忻逢盛事。遥瞻禁卫，蔼播衢谣：东极承颜肃紫宸。恩酉农湛露宴群臣。香传禁柳鸣球瑟，影颤宫花蔼缙绅。璀璨神光三殿晓，怡愉和气万年春。明朝又纪流虹瑞，更效封人祝圣人。  ◎对厅致语  怡愉奉太后，称觞盛长乐之仪；普率皆王臣，会□接镐京之饮。欢浮鱼藻，光射斗牛。恭惟特进大观文大丞相国公四海儒宗，两朝元老。巨川舟楫，旱岁霖雨；不有其功，清时钟鼓，胜事园林，自乐以道。暂游洛社，更筑沙堤。宫使端明相公吟遍玉堂，来寻绿野。听星辰履，久联紫殿之清；依日月光，已觉黄扉之近。宫使阁学尚书为国喉舌，同姓腹心。寄兴西山，虽喜林泉萧散；召还北阙，要推社稷经纶。观使提刑户部曾策驹马因，肯盟鸥鹭。入直天上，尚记青藜；趣起山中，便持紫橐。提刑诏使提刑部洒人寒露，厉古清风。衡岳云开，会见郎官列宿；甘泉地近，即依天子九重。观使提刑判府监丞玉节犹香，幅巾自适。胸中宇宙，素存开济之心；足下风云，直峻清华之武。观使判府刑部老成器局，光霁襟怀。赞白云之司，早培朝望；翔紫霄之表，简在帝心。众位判府郎卿金石舂鸣，琳琅映照。吟万柳阴中之句，香入诏芝；接五花影里之班，望高玉笋。及梓里满前之材俊，皆兰台向上之镃基。我知府、运使、华文、国史、秘监、侍郎，渠观联辉，节麾叠组。不知昼锦为邦家之光、E3CC里之荣；但喜阳春在天庭之间、湖山之外。嘉与十一郡黎献之众，载歌万亿载慈祥之诗。寿崇方庆于坤闱，既醉共分于天禄。合星垣之宾佐，偕月乘之儒流。蓉府材能，柳营韬略。客坐联杏坛之秀，男邦蔼花县之英。笾豆肆陈，笙簧迭奏。福介于王母，幸永瞻慈极之尊；河清生圣人，更同效华对之祝。□等敷陈俚词，扬厉休期。  八叶蓂香夏气清。坤闱有庆佛同生。枫宸称寿云霄迥，苹野沾恩雨露深。祚永万年齐晋福，孝濡九有乐升平。电枢又报祥光绕，虎拜扬休天子明。  ◎唱  金阙深深，正夏日初长禁柳青。祥烟纷簇，红云一朵，飞度彤庭。千妃随步处，觉薰风、微拂觚棱。天颜喜，向东朝长乐，献九霞觥。  分明。西昆王母，来从光碧驾飞軿。为言今日，金仙新浴，共庆长生。捧桃上寿，天一笑、赐宴蓬瀛。沸欢声。道明朝前殿，又祝椿龄。  ◎勾问队心  妾闻舜殿重华，薰风初奏；唐宫兴庆，寿日新逢。远方称赞效微诚，女队蹁跹呈妙舞。腰翻翠柳，步趁金莲。岂无皓齿之歌，可表丹心之祝。相携纤手，共蹑华裀。  ◎唱柘枝令  西山元是神仙境，瑞气郁森森。彩鸾飞下五云深。急管递繁音。  碧鬓□斜花欲颤，轻盈莲步移金。柴檀催拍莫沈吟。传入柘枝心。  ◎花心唱  慈元宫殿五云开。寿献九霞杯。步随王母共徘徊。仙子下瑶台。  红袖引翻鸾镜媚，婆娑雪□风回。繁弦脆管莫相催。齐唱柘枝来。  ◎四角唱  风吹仙袂飘飘举，底事下蓬莱。东朝遥祝万年杯。玉液泻金罍。  天上蟠桃又熟，晕酡颜、红染芳腮。年年摘取献天阶。齐舞柘枝来。  ◎遣队  铜壶漏转，屡惊花影之移；桂棹风轻，已觉蓬莱之近。覆裀已蹙，雪鼓重催。歌舞既周，好去好去。  ◎勾队  瞻寿星于南极，瑞启东朝；移仙驭于西山，望倾北阙。式歌且舞，共祝无疆。  ◎吴仙诗  一曲清歌艳彩鸾。金炉香拥气如兰。西山高与南山接，剩有当时却老丹。  ◎唱  千年紫极锁烟萝。艳质含羞敛翠蛾。远睇慈元称寿处，不妨连臂，大家重与，楚舞更吴歌。  ◎谌仙诗  冉冉飞霜缀绮裳。遥知谌母下丹阳。黄金炼就三山药，来采蒲花献寿觞。  ◎唱  秘传玉诀自灵修。家在仙山最上头。理会有仙茅香馥郁，年年今日，薰风时候，掇取献龙楼。  ◎鹤山诗  饮马池边号浴仙。仙姿化鹤古今传。金经尤有延年诀，未数庄椿寿八千。  ◎唱  自在云间白鹤飞。晴川浴罢不胜衣。旋裁五色冰蚕锦，千花覆处，三呼声里，惹得御香归。  ◎龙仙诗  楚尾吴头风乍薰。沧波深拥小龙君。愿朝帝母龙楼晚，来曳霞裾驾五云。  ◎唱  闲云潭影日悠悠。暮倚朱帘更少留。龙寿本齐箕与翼，□从今日，一年一度，东极庆千秋。  ◎柏仙诗  古柏林间小剑仙。云鬟低绾ED51轻蝉。愿持天上长生箓，来祝东朝亿万年。  ◎唱  新吴曾遇许旌阳。宝气横空一剑长。愿祝慈闱长不老，天长地久，有如此柏，万古镇苍苍。  ◎遣队  花朝日转，睹妙舞之初停；莲步云生，学飞仙之难驻。遥瞻翠阆，已启金扃。待拟重来，不妨好去。  ◎王母祝语  长乐宫中，永壶天之日月；蓬莱岛上，曳洞府之烟霞。不辞弱水之遥，来祝南山之寿。恭惟体坤至静，与佛同生。德比周任，知文王之所以圣；尊为太后，喜唐帝之孝于亲。和蔼一堂，庆流万宇。昆圃五城宅，幸居至治之朝；云EB30九霞觞，因献长生之箓。恭惟丕丞慈训，克绍洪休。八九叶蓂开，接虹流于华渚；三千年桃熟，侑宴饮于瑶池。薰风迭奏于虞弦，湛露载沾于周泽。臣□喜游化国，适际昌辰。密依天阙之光，好诵仙家之句。  壶峤天低乐圣时。南薰初试度兰池。影飞霞佩朝金殿，曲奏云和献玉卮。稽首万年尧历永，承颜五色舜衣垂。仙家更有蟠桃在，明日重来谒帝墀。  ◎唱  龙楼日永，鹤禁风薰，拂晓寿星光现。无限霞裾，欣传帝母，与佛同生华旦。佳气慈闱，看龙颜欢动，玉卮亲劝。捧祝殷勤，对萱草青松，菖蒲翠软。奇香喷，阶前芍药，频繁红深紫浅。  遥望千官鹭序，晓仗初齐，趋觐慈元宫殿。更喜明朝，虹流佳节，同听嵩山呼万。湛露重重，燕庆两宫，盛事如今亲见。齐祝愿、西昆凝碧，南山增绿，与天齐算。身长好，年年拜舞宫花颤。  ◎勾队  万岁山前，三呼祝寿；千花海里，一□□□。从来无日不春，况是薰风初夏。蔷薇□□，芍药翻阶。葵欲向阳，榴将喷火。正好共寻奇卉，来献芳筵。对仙李之盘根，今朝一转；庆蟠桃之结实，明日重来。上侑清欢，千花入队。  ◎万年枝诗  百子池边景最奇。无人识是万年枝。细花密叶青青子，常得披香雨露滋。东风向晚薰风早。禁路飞花沾寿草。年年圣主寿慈闱，先献此花名字好。  ◎唱  先献此花名字好。密叶长青，翠羽摇仙葆。紫禁风薰惊夏到。花飞细□香堪扫。拂晓宫娃争报道。无限琼妃，缥缈来蓬岛。来向慈闱勤颂祷。万年枝□同难老。  ◎长春花诗  东风不与世情同。多付春光向此中。叶里尽藏云外绿，枝头剩带日边红。百花能占春多少。何似春颜长自好。清和时候卷红绡，端的长春春不老。  ◎唱  端的长春春不老。玉颊微红，酒晕精神好。多谢天工相懊恼。花间不问春迟早。  风外新篁摇翠葆。长乐宫边，绿荫笼驰道。此际称觞非草草。绛仙亲下蓬莱岛。  ◎菖蒲花诗  昔年有母见花轮。富贵长年不记春。今报紫茸依碧节，献来慈极寿庄椿。汉家天子嵩山路。又见蒲仙相与语。而今帝母两怡愉，莫忘九疑山上侣。  ◎唱  莫忘九疑山上侣。住在山中，白石清泉处。好与长年沾雨露。灵根下遣蟠虬护。  青青九节长如许。早晚成花，教见薰风度。十二节添须记取。千年一节从头数。  ◎萱草花诗  当年子建可诗章。绿叶丹花有晔光。为道宜男仍永世，福齐太姒炽而昌。犹记夏侯曾与赋。灼灼朱华人嘉句。紫微右极是慈闱，岁岁丹霞天近处。  ◎唱  岁岁丹霞天近处。借问殷勤，何以逢兰杜。碧砌玉阑春不去。清香长逐薰风度。  况是恩光新雨露。绿叶青青，葱翠长如许。端的萱花仙伴侣。年年今日阶前舞。  ◎石榴花诗  待阙南风欲上场。阴阴稚绿绕丹墙。石榴已著乾红蕾，无尽春光尽更强。不因博望来西域。安得名花出安石。朝元阁上旧风光，犹是太真亲手植。  ◎唱  犹是太真亲手植。猩染鲜葩，岁岁如曾拭。绛节青旌光耀日。分明是个神仙匹。  引领金扉红的的。下有仙妃，纤手轻轻摘。为道朱颜常似得。今朝摘取呈慈极。  ◎栀子花诗  当年曾记晋华林。望气红黄栀子深。有敕诸官勤守护，花开如玉子如金。此花端的名薝卜。千佛林中清更洁。从知帝母佛同生，移向慈元供寿佛。  ◎唱  移向慈元供寿佛。压倒群花，端的成清绝。青萼玉包全未拆。薰风微处留香雪。  未拆香包香已冽。沈水龙涎，不用金炉爇。花露轻轻和玉屑。金仙付与长生诀。  ◎蔷薇花诗  碎翦红绡间绿丛。风流疑在列仙宫。朝真更欲薰香去，争掷霓衣上宝笼。忽惊锦浪洗春色。又似宫娃逞妆饰。会当一遣移花根，还比蒲桃天上植。  ◎唱  还比蒲桃天上植。稚柳阴中，蜀锦开如织。万岁藤边娇五色。宜春馆里香寻觅。  七十二行鲜的的。岁岁如今，早趁薰风摘。金掌露浓堪爱惜。龙涎华润凝光碧。  ◎芍药花诗  倚竹佳人翠袖长。阿姨天上舞霓裳。娇红凝脸西施醉，青玉阑干说叠香。晚春早夏扬州路。浓妆初试鹅红妒。何如御掖垣中，日日传宣金掌露。  ◎唱  日日传宣金掌露。当殿芳菲，似约春长驻。微紫深红浑谩与。淡妆偏趁泥金缕。  拂早薰风花里度。吹送香尘，东殿称觞处。歌罢花仙归洞府。采鸾驾雾来南浦。  ◎宫柳花诗  御墙侧畔绿垂垂。接夏连春花点衣。好似雪茵胡旋舞，楼台帘幕燕初飞。薰风日永龙墀晓。宫妃簇仗呈千巧。就中妙舞最工奇，戏衮玉球添一笑。  ◎唱  戏衮玉球添一笑。笑道轻狂，似恁人间少。偏倚龙池依凤沼。随风得得低回绕。  掠面点衣夸百巧。似雪飞花，点束梁园好。惹住金虬香篆袅。上林不放春光老。  ◎蟠桃花诗  蕊珠仙子驾红云。来说瑶池□□春。道是当年和露种，三千花实又从新。红云元透西昆路。青鸟衔枝花□□。薰风初动子成初，消息一年传一度。  ◎唱  消息一年传一度。万岁枝香，总是留春处。曾倚东风娇不语。玉阶霞袂飘飘举。  蓬莱清浅红云路。结子新成，要荐金盘去。一实三千须记取。东朝宴罢回青羽。  ◎众唱  十样仙葩天也爱。留住春光，一一娇相赛。万里莺花开世界。园林点检随时采。  □□□眉仙体态。天与司花，舞彻歌还再。献与千官头上戴。年年万岁声中拜'"
      ]
     },
     "execution_count": 25,
     "metadata": {},
     "output_type": "execute_result"
    }
   ],
   "source": [
    "data_df[data_df[\"内容\"].str.contains(\"◎唱\")][\"内容\"].values[0]"
   ]
  },
  {
   "cell_type": "code",
   "execution_count": 26,
   "metadata": {},
   "outputs": [
    {
     "data": {
      "text/plain": [
       "'云髻高梳鬓不分，扫除虚室事元君。新糊白纸屏风上，尽画蓬莱五色云山色摇光入袖凉，松阴十丈印回廊。老僧读罢楞严咒，一殿神风柏子香经月愁闻雨，新年苦忆君。青华为客久，白发著书勤。酒共邻僧饮，蔬从野老分。何时共登'"
      ]
     },
     "execution_count": 26,
     "metadata": {},
     "output_type": "execute_result"
    }
   ],
   "source": [
    "text[:102]"
   ]
  },
  {
   "cell_type": "code",
   "execution_count": 27,
   "metadata": {},
   "outputs": [
    {
     "name": "stdout",
     "output_type": "stream",
     "text": [
      "[('，', 6598696), ('。', 5521558), ('不', 790072), ('人', 631986), ('一', 589025), ('山', 478570), ('', 443308), ('有', 434787), ('风', 412634), ('天', 401544), ('日', 374115), ('无', 370680), ('何', 362635), ('花', 346764), ('春', 318550), ('来', 316579), ('云', 310477), ('中', 305033), ('生', 301563), ('如', 301216)]\n"
     ]
    },
    {
     "data": {
      "image/png": "[encoded data removed]",
      "text/plain": [
       "<Figure size 432x288 with 1 Axes>"
      ]
     },
     "metadata": {
      "needs_background": "light"
     },
     "output_type": "display_data"
    }
   ],
   "source": [
    "show_wordcloud(\" \".join(text))"
   ]
  },
  {
   "cell_type": "code",
   "execution_count": null,
   "metadata": {},
   "outputs": [],
   "source": []
  }
 ],
 "metadata": {
  "kernelspec": {
   "display_name": "Python 3",
   "language": "python",
   "name": "python3"
  },
  "language_info": {
   "codemirror_mode": {
    "name": "ipython",
    "version": 3
   },
   "file_extension": ".py",
   "mimetype": "text/x-python",
   "name": "python",
   "nbconvert_exporter": "python",
   "pygments_lexer": "ipython3",
   "version": "3.7.1"
  }
 },
 "nbformat": 4,
 "nbformat_minor": 2
}
